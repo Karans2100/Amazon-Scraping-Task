{
 "cells": [
  {
   "cell_type": "code",
   "execution_count": 41,
   "id": "38ee828c-079a-4afe-8ada-b3a2569bb284",
   "metadata": {},
   "outputs": [],
   "source": [
    "from selenium import webdriver\n",
    "from selenium.webdriver.common.by import By\n",
    "from bs4 import BeautifulSoup\n",
    "import pandas as pd\n",
    "import time"
   ]
  },
  {
   "cell_type": "code",
   "execution_count": 4,
   "id": "42f4aba6-46ca-4ec0-afea-a62c87da8ad9",
   "metadata": {},
   "outputs": [],
   "source": [
    "browser = webdriver.Chrome()\n",
    "browser.get(\"https://www.amazon.in/gp/bestsellers/?ref_=nav_em_cs_bestsellers_0_1_1_2\")"
   ]
  },
  {
   "cell_type": "code",
   "execution_count": 5,
   "id": "83adc0f2-f50b-4d2d-a1c4-88960f32f552",
   "metadata": {},
   "outputs": [],
   "source": [
    "html_content = browser.page_source\n",
    "doc = BeautifulSoup(html_content, \"html.parser\")"
   ]
  },
  {
   "cell_type": "code",
   "execution_count": null,
   "id": "aeb61fa4-ce37-45f9-8937-cf2ce8d494b0",
   "metadata": {},
   "outputs": [],
   "source": [
    "browser = webdriver.Chrome()\n",
    "browser.maximize_window()\n",
    "browser.get(\"https://www.amazon.in/gp/bestsellers/?ref_=nav_em_cs_bestsellers_0_1_1_2\")\n",
    "\n",
    "html_content = browser.page_source\n",
    "doc = BeautifulSoup(html_content, \"html.parser\")\n",
    "\n",
    "# Getting all Departments\n",
    "department_names = []\n",
    "department_urls = []\n",
    "base = \"https://www.amazon.in\"\n",
    "department_tags = doc.find_all(\"div\", {\"role\": \"group\"})[0].find_all(\"a\")\n",
    "for i in range(0, len(department_tags)):\n",
    "    department_names.append(department_tags[i].text.strip())\n",
    "    department_urls.append(base + department_tags[i][\"href\"])\n",
    "\n",
    "# Getting Categories\n",
    "for i in range(0, 1):\n",
    "    print(f\"Scraping Department {i} {department_names[i]}\")\n",
    "    browser.get(department_urls[i])\n",
    "    html_content = browser.page_source\n",
    "    doc = BeautifulSoup(html_content, \"html.parser\")\n",
    "\n",
    "    category_tags = doc.find_all(\"div\", {\"role\": \"group\"})[0].find_all(\"a\")\n",
    "    special = base + category_tags[0][\"href\"]\n",
    "    for j in range(2, 3):\n",
    "        print(f\"Scraping Category {j} {category_tags[j].text.strip()}\")\n",
    "        category_name = category_tags[j].text.strip()\n",
    "        category_url = base + category_tags[j][\"href\"]\n",
    "\n",
    "        # Getting Sub Categories\n",
    "        browser.get(category_url)\n",
    "        html_content = browser.page_source\n",
    "        doc = BeautifulSoup(html_content, \"html.parser\")\n",
    "\n",
    "        sub_category_tags = doc.find_all(\"div\", {\"role\": \"group\"})[0].find_all(\"a\")\n",
    "        for k in range(0, 1):\n",
    "            if special in base + sub_category_tags[0][\"href\"]:\n",
    "                break\n",
    "            else:\n",
    "                print(f\"Scraping Sub Category {k} {sub_category_tags[k].text.strip()}\")\n",
    "                sub_category_name = sub_category_tags[k].text.strip()\n",
    "                sub_category_url = base + sub_category_tags[k][\"href\"]\n",
    "\n",
    "                # Getting Product Links\n",
    "                browser.get(sub_category_url)\n",
    "                product_links = []\n",
    "                \n",
    "                for l in range(0, 2):\n",
    "                    browser.execute_script(\"window.scrollTo(0, document.body.scrollHeight);\")\n",
    "                    time.sleep(2)\n",
    "                    html_content = browser.page_source\n",
    "                    doc = BeautifulSoup(html_content, \"html.parser\")\n",
    "    \n",
    "                    product_tags = doc.find_all(\"div\", {\"id\": \"gridItemRoot\"})\n",
    "                    print(len(product_tags))\n",
    "                    for m in range(0, len(product_tags)):\n",
    "                        product_links.append(base + product_tags[m].find(\"a\")[\"href\"])\n",
    "    \n",
    "                    # Going to next page\n",
    "                    if l == 1:\n",
    "                        break\n",
    "                    try:\n",
    "                        next_page_tag = doc.find_all(\"div\", {\"class\": \"a-text-center\"})[-1].find(\"li\", {\"class\": \"a-last\"}).find(\"a\")\n",
    "                        browser.get(base + next_page_tag[\"href\"])\n",
    "                    except:\n",
    "                        pass\n",
    "\n",
    "                # Getting Info of each product\n",
    "                for l in range(50, len(product_links)):\n",
    "                    browser.get(product_links[l])\n",
    "                    html_content = browser.page_source\n",
    "                    doc = BeautifulSoup(html_content, \"html.parser\")\n",
    "\n",
    "                    product_name = doc.find(\"span\", {\"id\": \"productTitle\"}).text.strip()\n",
    "                    print(product_name)"
   ]
  },
  {
   "cell_type": "markdown",
   "id": "49b30858-802d-47fe-a187-003221dd3763",
   "metadata": {},
   "source": [
    "<h2>Getting all Departments</h2>"
   ]
  },
  {
   "cell_type": "code",
   "execution_count": 9,
   "id": "fd5040a9-f0a2-412c-ac10-33e7282cea00",
   "metadata": {},
   "outputs": [],
   "source": [
    "department_tags = doc.find_all(\"div\", {\"role\": \"group\"})[0].find_all(\"a\")"
   ]
  },
  {
   "cell_type": "code",
   "execution_count": 11,
   "id": "cbc66cd2-89b5-49a3-9fba-542f7b6c79bc",
   "metadata": {},
   "outputs": [],
   "source": [
    "department_names = []\n",
    "department_urls = []\n",
    "base = \"https://www.amazon.in\"\n",
    "department_tags = doc.find_all(\"div\", {\"role\": \"group\"})[0].find_all(\"a\")\n",
    "for i in range(0, len(department_tags)):\n",
    "    department_names.append(department_tags[i].text.strip())\n",
    "    department_urls.append(base + department_tags[i][\"href\"])"
   ]
  },
  {
   "cell_type": "markdown",
   "id": "5f879b3c-dc23-476e-8e71-4617afb833f8",
   "metadata": {},
   "source": [
    "<h2>Getting all Categories</h2>"
   ]
  }
 ],
 "metadata": {
  "kernelspec": {
   "display_name": "Python 3 (ipykernel)",
   "language": "python",
   "name": "python3"
  },
  "language_info": {
   "codemirror_mode": {
    "name": "ipython",
    "version": 3
   },
   "file_extension": ".py",
   "mimetype": "text/x-python",
   "name": "python",
   "nbconvert_exporter": "python",
   "pygments_lexer": "ipython3",
   "version": "3.12.7"
  }
 },
 "nbformat": 4,
 "nbformat_minor": 5
}
